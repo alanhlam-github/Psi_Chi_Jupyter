{
  "nbformat": 4,
  "nbformat_minor": 0,
  "metadata": {
    "colab": {
      "provenance": [],
      "authorship_tag": "ABX9TyOjudRe9PhxxvB/k6+E3oCt"
    },
    "kernelspec": {
      "name": "ir",
      "display_name": "R"
    },
    "language_info": {
      "name": "R"
    }
  },
  "cells": [
    {
      "cell_type": "markdown",
      "source": [
        "## Psi Chi R - July 2025\n",
        "\n",
        "https://osf.io/wxmzk/wiki/home/"
      ],
      "metadata": {
        "id": "9rA6gOcLoqRw"
      }
    },
    {
      "cell_type": "markdown",
      "source": [
        "Level 1: Preparing the data\n",
        "\n",
        "• Remove participants who are missing ‘Age’ and ‘BPM’\n",
        "\n",
        "Level 2: Data inspection\n",
        "\n",
        "• Identify participants with values considered outliers for ‘BPM’.\n",
        "\n",
        "a. Test your skills: Visualize outlier values for ‘BPM’.\n",
        "\n",
        "• Is BPM skewed? If so, how?\n",
        "\n",
        "• Identify participants with values considered outliers for ‘hourslistened’\n",
        "\n",
        "• Remove participants with values considered outliers on ‘BPM’ and ‘hourslistened’\n",
        "\n",
        "Level 2: Descriptives\n",
        "\n",
        "• Find the mean, standard deviation, median, and range of ‘hourslistened’\n",
        "\n",
        "a. Test your skills: Find the mean, standard deviation, median, and range of ‘hourslistened’ in one step.\n",
        "\n",
        "Level 3: Inferential + Other Statistics\n",
        "\n",
        "• Is there a statistically significant correlation between the number of hours someone listened to EDM and their depression score?\n",
        "\n",
        "• Is there a significant relationship between the frequency of listening to metal music and the mental health effects of listening to music?\n",
        "\n",
        "Test your skills: Is there a statistically significant difference in anxiety scores between people who listen to Jazz ‘very frequently’ and ‘never?’\n",
        "\n",
        "Test your skills: Is there a statistically significant difference in Insomnia scores between people whose favorite genre is “pop” and people whose favorite genre is “rap?”\n",
        "\n",
        "Level 4: Visualization\n",
        "\n",
        "• Graph the relationship between the number of hours someone listens to music and their OCD score"
      ],
      "metadata": {
        "id": "7r8fiJMbpg5v"
      }
    },
    {
      "cell_type": "markdown",
      "source": [
        "## Load packages"
      ],
      "metadata": {
        "id": "HfAwtibQ6HjK"
      }
    },
    {
      "cell_type": "code",
      "source": [
        "#rm(list=ls())"
      ],
      "metadata": {
        "id": "IcrEhtBpzyQ8",
        "colab": {
          "base_uri": "https://localhost:8080/",
          "height": 34
        },
        "outputId": "e54a1720-4fe3-441f-d2f0-9d24f992baf8"
      },
      "execution_count": null,
      "outputs": [
        {
          "output_type": "display_data",
          "data": {
            "text/html": [
              "0.921409214092141"
            ],
            "text/markdown": "0.921409214092141",
            "text/latex": "0.921409214092141",
            "text/plain": [
              "[1] 0.9214092"
            ]
          },
          "metadata": {}
        }
      ]
    },
    {
      "cell_type": "code",
      "execution_count": 1,
      "metadata": {
        "id": "PlG3cQwYcSuI",
        "colab": {
          "base_uri": "https://localhost:8080/"
        },
        "outputId": "970456fb-17bd-49e3-f530-e5417f430632"
      },
      "outputs": [
        {
          "output_type": "stream",
          "name": "stderr",
          "text": [
            "── \u001b[1mAttaching core tidyverse packages\u001b[22m ──────────────────────── tidyverse 2.0.0 ──\n",
            "\u001b[32m✔\u001b[39m \u001b[34mdplyr    \u001b[39m 1.1.4     \u001b[32m✔\u001b[39m \u001b[34mreadr    \u001b[39m 2.1.5\n",
            "\u001b[32m✔\u001b[39m \u001b[34mforcats  \u001b[39m 1.0.0     \u001b[32m✔\u001b[39m \u001b[34mstringr  \u001b[39m 1.5.1\n",
            "\u001b[32m✔\u001b[39m \u001b[34mggplot2  \u001b[39m 3.5.2     \u001b[32m✔\u001b[39m \u001b[34mtibble   \u001b[39m 3.3.0\n",
            "\u001b[32m✔\u001b[39m \u001b[34mlubridate\u001b[39m 1.9.4     \u001b[32m✔\u001b[39m \u001b[34mtidyr    \u001b[39m 1.3.1\n",
            "\u001b[32m✔\u001b[39m \u001b[34mpurrr    \u001b[39m 1.0.4     \n",
            "── \u001b[1mConflicts\u001b[22m ────────────────────────────────────────── tidyverse_conflicts() ──\n",
            "\u001b[31m✖\u001b[39m \u001b[34mdplyr\u001b[39m::\u001b[32mfilter()\u001b[39m masks \u001b[34mstats\u001b[39m::filter()\n",
            "\u001b[31m✖\u001b[39m \u001b[34mdplyr\u001b[39m::\u001b[32mlag()\u001b[39m    masks \u001b[34mstats\u001b[39m::lag()\n",
            "\u001b[36mℹ\u001b[39m Use the conflicted package (\u001b[3m\u001b[34m<http://conflicted.r-lib.org/>\u001b[39m\u001b[23m) to force all conflicts to become errors\n"
          ]
        }
      ],
      "source": [
        "\n",
        "## sum rows\n",
        "sum_rows = function(x) {\n",
        "  x = as.data.frame(x)\n",
        "  sums = sapply(x,function(col) if (is.numeric(col)) sum(col, na.rm = T) else NA)\n",
        "  sums = as.data.frame(t(sums))\n",
        "  names(sums) = names(x)\n",
        "  rbind(x, sums)\n",
        "}\n",
        "\n",
        "## right column for total\n",
        "sum_cols = function(x) {\n",
        "  x$Total = rowSums(x[sapply(x, is.numeric)], na.rm = T)\n",
        "  x\n",
        "}\n",
        "\n",
        "#dollar format function\n",
        "dollars = function(x) {\n",
        "  paste0(\"$\",format(x,big.mark= \",\",scientific=F))\n",
        "}\n",
        "\n",
        "desc_stats = function(x){\n",
        "  c(min = min(x,na.rm=T),\n",
        "    median = median(x,na.rm=T),\n",
        "    max = max(x,na.rm=T),\n",
        "    mean = mean(x,na.rm=T),\n",
        "    sd = sd(x,na.rm=T))\n",
        "}\n",
        "\n",
        "#numeric notations\n",
        "options(scipen=9999)\n",
        "\n",
        "library(tidyverse)\n",
        "library(readxl)"
      ]
    },
    {
      "cell_type": "code",
      "source": [
        "sheet_URL = \"https://osf.io/download/edn8q/\"\n",
        "\n",
        "download.file(sheet_URL, destfile = \"data.csv\")\n",
        "\n",
        "data = read.csv(\"data.csv\")"
      ],
      "metadata": {
        "id": "GC38wTNm8M3p"
      },
      "execution_count": 2,
      "outputs": []
    },
    {
      "cell_type": "code",
      "source": [
        "data |> head()"
      ],
      "metadata": {
        "id": "tRRsXan-r6rW",
        "colab": {
          "base_uri": "https://localhost:8080/",
          "height": 428
        },
        "outputId": "7810a374-e251-4e1d-87cb-4720e3d9da90"
      },
      "execution_count": 3,
      "outputs": [
        {
          "output_type": "display_data",
          "data": {
            "text/html": [
              "<table class=\"dataframe\">\n",
              "<caption>A data.frame: 6 × 32</caption>\n",
              "<thead>\n",
              "\t<tr><th></th><th scope=col>Timestamp</th><th scope=col>Age</th><th scope=col>Primary.streaming.service</th><th scope=col>hourslistened</th><th scope=col>While.working</th><th scope=col>Instrumentalist</th><th scope=col>Composer</th><th scope=col>Fav.genre</th><th scope=col>Exploratory</th><th scope=col>Foreign.languages</th><th scope=col>⋯</th><th scope=col>Frequency..Pop.</th><th scope=col>Frequency..R.B.</th><th scope=col>Frequency..Rap.</th><th scope=col>Frequency..Rock.</th><th scope=col>Frequency..Video.game.music.</th><th scope=col>Anxiety</th><th scope=col>Depression</th><th scope=col>Insomnia</th><th scope=col>OCD</th><th scope=col>Music.effects</th></tr>\n",
              "\t<tr><th></th><th scope=col>&lt;chr&gt;</th><th scope=col>&lt;int&gt;</th><th scope=col>&lt;chr&gt;</th><th scope=col>&lt;dbl&gt;</th><th scope=col>&lt;chr&gt;</th><th scope=col>&lt;chr&gt;</th><th scope=col>&lt;chr&gt;</th><th scope=col>&lt;chr&gt;</th><th scope=col>&lt;chr&gt;</th><th scope=col>&lt;chr&gt;</th><th scope=col>⋯</th><th scope=col>&lt;chr&gt;</th><th scope=col>&lt;chr&gt;</th><th scope=col>&lt;chr&gt;</th><th scope=col>&lt;chr&gt;</th><th scope=col>&lt;chr&gt;</th><th scope=col>&lt;dbl&gt;</th><th scope=col>&lt;dbl&gt;</th><th scope=col>&lt;dbl&gt;</th><th scope=col>&lt;dbl&gt;</th><th scope=col>&lt;chr&gt;</th></tr>\n",
              "</thead>\n",
              "<tbody>\n",
              "\t<tr><th scope=row>1</th><td>8/27/2022 19:29</td><td>18</td><td>Spotify      </td><td>3.0</td><td>Yes</td><td>Yes</td><td>Yes</td><td>Latin           </td><td>Yes</td><td>Yes</td><td>⋯</td><td>Very frequently</td><td>Sometimes      </td><td>Very frequently</td><td>Never          </td><td>Sometimes      </td><td>3</td><td>0</td><td> 1</td><td>0</td><td>         </td></tr>\n",
              "\t<tr><th scope=row>2</th><td>8/27/2022 19:57</td><td>63</td><td>Pandora      </td><td>1.5</td><td>Yes</td><td>No </td><td>No </td><td>Rock            </td><td>Yes</td><td>No </td><td>⋯</td><td>Sometimes      </td><td>Sometimes      </td><td>Rarely         </td><td>Very frequently</td><td>Rarely         </td><td>7</td><td>2</td><td> 2</td><td>1</td><td>         </td></tr>\n",
              "\t<tr><th scope=row>3</th><td>8/27/2022 21:28</td><td>18</td><td>Spotify      </td><td>4.0</td><td>No </td><td>No </td><td>No </td><td>Video game music</td><td>No </td><td>Yes</td><td>⋯</td><td>Rarely         </td><td>Never          </td><td>Rarely         </td><td>Rarely         </td><td>Very frequently</td><td>7</td><td>7</td><td>10</td><td>2</td><td>No effect</td></tr>\n",
              "\t<tr><th scope=row>4</th><td>8/27/2022 21:40</td><td>61</td><td>YouTube Music</td><td>2.5</td><td>Yes</td><td>No </td><td>Yes</td><td>Jazz            </td><td>Yes</td><td>Yes</td><td>⋯</td><td>Sometimes      </td><td>Sometimes      </td><td>Never          </td><td>Never          </td><td>Never          </td><td>9</td><td>7</td><td> 3</td><td>3</td><td>Improve  </td></tr>\n",
              "\t<tr><th scope=row>5</th><td>8/27/2022 21:54</td><td>18</td><td><span style=white-space:pre-wrap>Spotify      </span></td><td>4.0</td><td>Yes</td><td>No </td><td>No </td><td><span style=white-space:pre-wrap>R&amp;B             </span></td><td>Yes</td><td>No </td><td>⋯</td><td><span style=white-space:pre-wrap>Sometimes      </span></td><td>Very frequently</td><td>Very frequently</td><td><span style=white-space:pre-wrap>Never          </span></td><td><span style=white-space:pre-wrap>Rarely         </span></td><td>7</td><td>2</td><td> 5</td><td>9</td><td><span style=white-space:pre-wrap>Improve  </span></td></tr>\n",
              "\t<tr><th scope=row>6</th><td>8/27/2022 21:56</td><td>18</td><td>Spotify      </td><td>5.0</td><td>Yes</td><td>Yes</td><td>Yes</td><td>Jazz            </td><td>Yes</td><td>Yes</td><td>⋯</td><td>Very frequently</td><td>Very frequently</td><td>Very frequently</td><td>Very frequently</td><td>Never          </td><td>8</td><td>8</td><td> 7</td><td>7</td><td>Improve  </td></tr>\n",
              "</tbody>\n",
              "</table>\n"
            ],
            "text/markdown": "\nA data.frame: 6 × 32\n\n| <!--/--> | Timestamp &lt;chr&gt; | Age &lt;int&gt; | Primary.streaming.service &lt;chr&gt; | hourslistened &lt;dbl&gt; | While.working &lt;chr&gt; | Instrumentalist &lt;chr&gt; | Composer &lt;chr&gt; | Fav.genre &lt;chr&gt; | Exploratory &lt;chr&gt; | Foreign.languages &lt;chr&gt; | ⋯ ⋯ | Frequency..Pop. &lt;chr&gt; | Frequency..R.B. &lt;chr&gt; | Frequency..Rap. &lt;chr&gt; | Frequency..Rock. &lt;chr&gt; | Frequency..Video.game.music. &lt;chr&gt; | Anxiety &lt;dbl&gt; | Depression &lt;dbl&gt; | Insomnia &lt;dbl&gt; | OCD &lt;dbl&gt; | Music.effects &lt;chr&gt; |\n|---|---|---|---|---|---|---|---|---|---|---|---|---|---|---|---|---|---|---|---|---|---|\n| 1 | 8/27/2022 19:29 | 18 | Spotify       | 3.0 | Yes | Yes | Yes | Latin            | Yes | Yes | ⋯ | Very frequently | Sometimes       | Very frequently | Never           | Sometimes       | 3 | 0 |  1 | 0 | <!----> |\n| 2 | 8/27/2022 19:57 | 63 | Pandora       | 1.5 | Yes | No  | No  | Rock             | Yes | No  | ⋯ | Sometimes       | Sometimes       | Rarely          | Very frequently | Rarely          | 7 | 2 |  2 | 1 | <!----> |\n| 3 | 8/27/2022 21:28 | 18 | Spotify       | 4.0 | No  | No  | No  | Video game music | No  | Yes | ⋯ | Rarely          | Never           | Rarely          | Rarely          | Very frequently | 7 | 7 | 10 | 2 | No effect |\n| 4 | 8/27/2022 21:40 | 61 | YouTube Music | 2.5 | Yes | No  | Yes | Jazz             | Yes | Yes | ⋯ | Sometimes       | Sometimes       | Never           | Never           | Never           | 9 | 7 |  3 | 3 | Improve   |\n| 5 | 8/27/2022 21:54 | 18 | Spotify       | 4.0 | Yes | No  | No  | R&amp;B              | Yes | No  | ⋯ | Sometimes       | Very frequently | Very frequently | Never           | Rarely          | 7 | 2 |  5 | 9 | Improve   |\n| 6 | 8/27/2022 21:56 | 18 | Spotify       | 5.0 | Yes | Yes | Yes | Jazz             | Yes | Yes | ⋯ | Very frequently | Very frequently | Very frequently | Very frequently | Never           | 8 | 8 |  7 | 7 | Improve   |\n\n",
            "text/latex": "A data.frame: 6 × 32\n\\begin{tabular}{r|lllllllllllllllllllll}\n  & Timestamp & Age & Primary.streaming.service & hourslistened & While.working & Instrumentalist & Composer & Fav.genre & Exploratory & Foreign.languages & ⋯ & Frequency..Pop. & Frequency..R.B. & Frequency..Rap. & Frequency..Rock. & Frequency..Video.game.music. & Anxiety & Depression & Insomnia & OCD & Music.effects\\\\\n  & <chr> & <int> & <chr> & <dbl> & <chr> & <chr> & <chr> & <chr> & <chr> & <chr> & ⋯ & <chr> & <chr> & <chr> & <chr> & <chr> & <dbl> & <dbl> & <dbl> & <dbl> & <chr>\\\\\n\\hline\n\t1 & 8/27/2022 19:29 & 18 & Spotify       & 3.0 & Yes & Yes & Yes & Latin            & Yes & Yes & ⋯ & Very frequently & Sometimes       & Very frequently & Never           & Sometimes       & 3 & 0 &  1 & 0 &          \\\\\n\t2 & 8/27/2022 19:57 & 63 & Pandora       & 1.5 & Yes & No  & No  & Rock             & Yes & No  & ⋯ & Sometimes       & Sometimes       & Rarely          & Very frequently & Rarely          & 7 & 2 &  2 & 1 &          \\\\\n\t3 & 8/27/2022 21:28 & 18 & Spotify       & 4.0 & No  & No  & No  & Video game music & No  & Yes & ⋯ & Rarely          & Never           & Rarely          & Rarely          & Very frequently & 7 & 7 & 10 & 2 & No effect\\\\\n\t4 & 8/27/2022 21:40 & 61 & YouTube Music & 2.5 & Yes & No  & Yes & Jazz             & Yes & Yes & ⋯ & Sometimes       & Sometimes       & Never           & Never           & Never           & 9 & 7 &  3 & 3 & Improve  \\\\\n\t5 & 8/27/2022 21:54 & 18 & Spotify       & 4.0 & Yes & No  & No  & R\\&B              & Yes & No  & ⋯ & Sometimes       & Very frequently & Very frequently & Never           & Rarely          & 7 & 2 &  5 & 9 & Improve  \\\\\n\t6 & 8/27/2022 21:56 & 18 & Spotify       & 5.0 & Yes & Yes & Yes & Jazz             & Yes & Yes & ⋯ & Very frequently & Very frequently & Very frequently & Very frequently & Never           & 8 & 8 &  7 & 7 & Improve  \\\\\n\\end{tabular}\n",
            "text/plain": [
              "  Timestamp       Age Primary.streaming.service hourslistened While.working\n",
              "1 8/27/2022 19:29 18  Spotify                   3.0           Yes          \n",
              "2 8/27/2022 19:57 63  Pandora                   1.5           Yes          \n",
              "3 8/27/2022 21:28 18  Spotify                   4.0           No           \n",
              "4 8/27/2022 21:40 61  YouTube Music             2.5           Yes          \n",
              "5 8/27/2022 21:54 18  Spotify                   4.0           Yes          \n",
              "6 8/27/2022 21:56 18  Spotify                   5.0           Yes          \n",
              "  Instrumentalist Composer Fav.genre        Exploratory Foreign.languages ⋯\n",
              "1 Yes             Yes      Latin            Yes         Yes               ⋯\n",
              "2 No              No       Rock             Yes         No                ⋯\n",
              "3 No              No       Video game music No          Yes               ⋯\n",
              "4 No              Yes      Jazz             Yes         Yes               ⋯\n",
              "5 No              No       R&B              Yes         No                ⋯\n",
              "6 Yes             Yes      Jazz             Yes         Yes               ⋯\n",
              "  Frequency..Pop. Frequency..R.B. Frequency..Rap. Frequency..Rock.\n",
              "1 Very frequently Sometimes       Very frequently Never           \n",
              "2 Sometimes       Sometimes       Rarely          Very frequently \n",
              "3 Rarely          Never           Rarely          Rarely          \n",
              "4 Sometimes       Sometimes       Never           Never           \n",
              "5 Sometimes       Very frequently Very frequently Never           \n",
              "6 Very frequently Very frequently Very frequently Very frequently \n",
              "  Frequency..Video.game.music. Anxiety Depression Insomnia OCD Music.effects\n",
              "1 Sometimes                    3       0           1       0                \n",
              "2 Rarely                       7       2           2       1                \n",
              "3 Very frequently              7       7          10       2   No effect    \n",
              "4 Never                        9       7           3       3   Improve      \n",
              "5 Rarely                       7       2           5       9   Improve      \n",
              "6 Never                        8       8           7       7   Improve      "
            ]
          },
          "metadata": {}
        }
      ]
    },
    {
      "cell_type": "markdown",
      "source": [
        "## Clean and join"
      ],
      "metadata": {
        "id": "0mtTyEUe6Tzb"
      }
    },
    {
      "cell_type": "code",
      "source": [
        "names(data) = trimws(str_to_lower(str_replace_all(names(data), \" \", \"_\")))"
      ],
      "metadata": {
        "id": "nIL7G6jE_7_Y"
      },
      "execution_count": 4,
      "outputs": []
    },
    {
      "cell_type": "code",
      "source": [
        "str(data)"
      ],
      "metadata": {
        "colab": {
          "base_uri": "https://localhost:8080/"
        },
        "collapsed": true,
        "id": "Zp_uNukA6Vjj",
        "outputId": "658326c4-210e-4dfb-e711-ec860d0bb146"
      },
      "execution_count": 5,
      "outputs": [
        {
          "output_type": "stream",
          "name": "stdout",
          "text": [
            "'data.frame':\t736 obs. of  32 variables:\n",
            " $ timestamp                   : chr  \"8/27/2022 19:29\" \"8/27/2022 19:57\" \"8/27/2022 21:28\" \"8/27/2022 21:40\" ...\n",
            " $ age                         : int  18 63 18 61 18 18 18 21 19 18 ...\n",
            " $ primary.streaming.service   : chr  \"Spotify\" \"Pandora\" \"Spotify\" \"YouTube Music\" ...\n",
            " $ hourslistened               : num  3 1.5 4 2.5 4 5 3 1 6 1 ...\n",
            " $ while.working               : chr  \"Yes\" \"Yes\" \"No\" \"Yes\" ...\n",
            " $ instrumentalist             : chr  \"Yes\" \"No\" \"No\" \"No\" ...\n",
            " $ composer                    : chr  \"Yes\" \"No\" \"No\" \"Yes\" ...\n",
            " $ fav.genre                   : chr  \"Latin\" \"Rock\" \"Video game music\" \"Jazz\" ...\n",
            " $ exploratory                 : chr  \"Yes\" \"Yes\" \"No\" \"Yes\" ...\n",
            " $ foreign.languages           : chr  \"Yes\" \"No\" \"Yes\" \"Yes\" ...\n",
            " $ bpm                         : int  156 119 132 84 107 86 66 95 94 155 ...\n",
            " $ frequency..classical.       : chr  \"Rarely\" \"Sometimes\" \"Never\" \"Sometimes\" ...\n",
            " $ frequency..country.         : chr  \"Never\" \"Never\" \"Never\" \"Never\" ...\n",
            " $ frequency..edm.             : chr  \"Rarely\" \"Never\" \"Very frequently\" \"Never\" ...\n",
            " $ frequency..folk.            : chr  \"Never\" \"Rarely\" \"Never\" \"Rarely\" ...\n",
            " $ frequency..gospel.          : chr  \"Never\" \"Sometimes\" \"Never\" \"Sometimes\" ...\n",
            " $ frequency..hip.hop.         : chr  \"Sometimes\" \"Rarely\" \"Rarely\" \"Never\" ...\n",
            " $ frequency..jazz.            : chr  \"Never\" \"Very frequently\" \"Rarely\" \"Very frequently\" ...\n",
            " $ frequency..k.pop.           : chr  \"Very frequently\" \"Rarely\" \"Very frequently\" \"Sometimes\" ...\n",
            " $ frequency..latin.           : chr  \"Very frequently\" \"Sometimes\" \"Never\" \"Very frequently\" ...\n",
            " $ frequency..lofi.            : chr  \"Rarely\" \"Rarely\" \"Sometimes\" \"Sometimes\" ...\n",
            " $ frequency..metal.           : chr  \"Never\" \"Never\" \"Sometimes\" \"Never\" ...\n",
            " $ frequency..pop.             : chr  \"Very frequently\" \"Sometimes\" \"Rarely\" \"Sometimes\" ...\n",
            " $ frequency..r.b.             : chr  \"Sometimes\" \"Sometimes\" \"Never\" \"Sometimes\" ...\n",
            " $ frequency..rap.             : chr  \"Very frequently\" \"Rarely\" \"Rarely\" \"Never\" ...\n",
            " $ frequency..rock.            : chr  \"Never\" \"Very frequently\" \"Rarely\" \"Never\" ...\n",
            " $ frequency..video.game.music.: chr  \"Sometimes\" \"Rarely\" \"Very frequently\" \"Never\" ...\n",
            " $ anxiety                     : num  3 7 7 9 7 8 4 5 2 2 ...\n",
            " $ depression                  : num  0 2 7 7 2 8 8 3 0 2 ...\n",
            " $ insomnia                    : num  1 2 10 3 5 7 6 5 0 5 ...\n",
            " $ ocd                         : num  0 1 2 3 9 7 0 3 0 1 ...\n",
            " $ music.effects               : chr  \"\" \"\" \"No effect\" \"Improve\" ...\n"
          ]
        }
      ]
    },
    {
      "cell_type": "markdown",
      "source": [
        "## Level 1: Preparing the data\n",
        "Remove participants who are missing ‘Age’ and ‘BPM’"
      ],
      "metadata": {
        "id": "0kHGY3eFqmsY"
      }
    },
    {
      "cell_type": "code",
      "source": [
        "data1=data |> filter(!is.na(age) & !is.na(bpm))\n",
        "\n",
        "str(data1)"
      ],
      "metadata": {
        "colab": {
          "base_uri": "https://localhost:8080/"
        },
        "id": "7XR2sW-mqrsG",
        "outputId": "e01688d4-61fe-4598-f54e-da1b5e9451a1"
      },
      "execution_count": 6,
      "outputs": [
        {
          "output_type": "stream",
          "name": "stdout",
          "text": [
            "'data.frame':\t629 obs. of  32 variables:\n",
            " $ timestamp                   : chr  \"8/27/2022 19:29\" \"8/27/2022 19:57\" \"8/27/2022 21:28\" \"8/27/2022 21:40\" ...\n",
            " $ age                         : int  18 63 18 61 18 18 18 21 19 18 ...\n",
            " $ primary.streaming.service   : chr  \"Spotify\" \"Pandora\" \"Spotify\" \"YouTube Music\" ...\n",
            " $ hourslistened               : num  3 1.5 4 2.5 4 5 3 1 6 1 ...\n",
            " $ while.working               : chr  \"Yes\" \"Yes\" \"No\" \"Yes\" ...\n",
            " $ instrumentalist             : chr  \"Yes\" \"No\" \"No\" \"No\" ...\n",
            " $ composer                    : chr  \"Yes\" \"No\" \"No\" \"Yes\" ...\n",
            " $ fav.genre                   : chr  \"Latin\" \"Rock\" \"Video game music\" \"Jazz\" ...\n",
            " $ exploratory                 : chr  \"Yes\" \"Yes\" \"No\" \"Yes\" ...\n",
            " $ foreign.languages           : chr  \"Yes\" \"No\" \"Yes\" \"Yes\" ...\n",
            " $ bpm                         : int  156 119 132 84 107 86 66 95 94 155 ...\n",
            " $ frequency..classical.       : chr  \"Rarely\" \"Sometimes\" \"Never\" \"Sometimes\" ...\n",
            " $ frequency..country.         : chr  \"Never\" \"Never\" \"Never\" \"Never\" ...\n",
            " $ frequency..edm.             : chr  \"Rarely\" \"Never\" \"Very frequently\" \"Never\" ...\n",
            " $ frequency..folk.            : chr  \"Never\" \"Rarely\" \"Never\" \"Rarely\" ...\n",
            " $ frequency..gospel.          : chr  \"Never\" \"Sometimes\" \"Never\" \"Sometimes\" ...\n",
            " $ frequency..hip.hop.         : chr  \"Sometimes\" \"Rarely\" \"Rarely\" \"Never\" ...\n",
            " $ frequency..jazz.            : chr  \"Never\" \"Very frequently\" \"Rarely\" \"Very frequently\" ...\n",
            " $ frequency..k.pop.           : chr  \"Very frequently\" \"Rarely\" \"Very frequently\" \"Sometimes\" ...\n",
            " $ frequency..latin.           : chr  \"Very frequently\" \"Sometimes\" \"Never\" \"Very frequently\" ...\n",
            " $ frequency..lofi.            : chr  \"Rarely\" \"Rarely\" \"Sometimes\" \"Sometimes\" ...\n",
            " $ frequency..metal.           : chr  \"Never\" \"Never\" \"Sometimes\" \"Never\" ...\n",
            " $ frequency..pop.             : chr  \"Very frequently\" \"Sometimes\" \"Rarely\" \"Sometimes\" ...\n",
            " $ frequency..r.b.             : chr  \"Sometimes\" \"Sometimes\" \"Never\" \"Sometimes\" ...\n",
            " $ frequency..rap.             : chr  \"Very frequently\" \"Rarely\" \"Rarely\" \"Never\" ...\n",
            " $ frequency..rock.            : chr  \"Never\" \"Very frequently\" \"Rarely\" \"Never\" ...\n",
            " $ frequency..video.game.music.: chr  \"Sometimes\" \"Rarely\" \"Very frequently\" \"Never\" ...\n",
            " $ anxiety                     : num  3 7 7 9 7 8 4 5 2 2 ...\n",
            " $ depression                  : num  0 2 7 7 2 8 8 3 0 2 ...\n",
            " $ insomnia                    : num  1 2 10 3 5 7 6 5 0 5 ...\n",
            " $ ocd                         : num  0 1 2 3 9 7 0 3 0 1 ...\n",
            " $ music.effects               : chr  \"\" \"\" \"No effect\" \"Improve\" ...\n"
          ]
        }
      ]
    },
    {
      "cell_type": "markdown",
      "source": [
        "## Level 2: Data inspection\n",
        "\n",
        "• Identify participants with values considered outliers for ‘BPM’.\n",
        "\n",
        "a. Test your skills: Visualize outlier values for ‘BPM’.\n",
        "\n",
        "• Is BPM skewed? If so, how?\n",
        "\n",
        "• Identify participants with values considered outliers for ‘hourslistened’\n",
        "\n",
        "• Remove participants with values considered outliers on ‘BPM’ and ‘hourslistened’"
      ],
      "metadata": {
        "id": "_Gb_k3EHqtXt"
      }
    },
    {
      "cell_type": "code",
      "source": [
        "data1$bpm2 = as.numeric(data1$bpm)\n",
        "\n",
        "boxplot(data1$bpm2)\n",
        "title('bpm boxplot')"
      ],
      "metadata": {
        "colab": {
          "base_uri": "https://localhost:8080/",
          "height": 437
        },
        "id": "mD5R1z9GyrYC",
        "outputId": "aeabe6d6-20ac-4d5a-8b00-1d95a863bf49"
      },
      "execution_count": 8,
      "outputs": [
        {
          "output_type": "display_data",
          "data": {
            "text/plain": [
              "Plot with title “bpm boxplot”"
            ],
            "image/png": "[encoded data removed]"
          },
          "metadata": {
            "image/png": {
              "width": 420,
              "height": 420
            }
          }
        }
      ]
    },
    {
      "cell_type": "code",
      "source": [
        "data2 = data1 |> filter(bpm < 200 & bpm > 40)\n",
        "\n",
        "boxplot(data2$bpm)\n",
        "summary(data2$bpm)"
      ],
      "metadata": {
        "colab": {
          "base_uri": "https://localhost:8080/",
          "height": 472
        },
        "id": "CmCycMD0z_ia",
        "outputId": "01b44cde-ea93-49f2-846c-c49265ba7448"
      },
      "execution_count": 9,
      "outputs": [
        {
          "output_type": "display_data",
          "data": {
            "text/plain": [
              "   Min. 1st Qu.  Median    Mean 3rd Qu.    Max. \n",
              "     52     100     120     122     140     194 "
            ]
          },
          "metadata": {}
        },
        {
          "output_type": "display_data",
          "data": {
            "text/plain": [
              "plot without title"
            ],
            "image/png": "[encoded data removed]"
          },
          "metadata": {
            "image/png": {
              "width": 420,
              "height": 420
            }
          }
        }
      ]
    },
    {
      "cell_type": "markdown",
      "source": [
        "## Level 2: Descriptives\n",
        "\n",
        "• Find the mean, standard deviation, median, and range of ‘hourslistened’\n",
        "\n",
        "a. Test your skills: Find the mean, standard deviation, median, and range of ‘hourslistened’ in one step."
      ],
      "metadata": {
        "id": "ep4UVHBisD2e"
      }
    },
    {
      "cell_type": "code",
      "source": [
        "print(desc_stats(data2$hourslistened))\n",
        "\n",
        "#range: 0 to 24"
      ],
      "metadata": {
        "id": "A3ueK9mFyiSi",
        "colab": {
          "base_uri": "https://localhost:8080/"
        },
        "outputId": "d6df178e-1fb1-4372-d969-dac622e49ed8"
      },
      "execution_count": 10,
      "outputs": [
        {
          "output_type": "stream",
          "name": "stdout",
          "text": [
            "      min    median       max      mean        sd \n",
            " 0.000000  3.000000 24.000000  3.726403  3.108148 \n"
          ]
        }
      ]
    },
    {
      "cell_type": "markdown",
      "source": [
        "## Level 3: Inferential + Other Statistics\n",
        "\n",
        "• Is there a statistically significant correlation between the number of hours someone listened to EDM and their depression score?\n",
        "\n",
        "• Is there a significant relationship between the frequency of listening to metal music and the mental health effects of listening to music?\n",
        "\n",
        "Test your skills: Is there a statistically significant difference in anxiety scores between people who listen to Jazz ‘very frequently’ and ‘never?’\n",
        "\n",
        "Test your skills: Is there a statistically significant difference in Insomnia scores between people whose favorite genre is “pop” and people whose favorite genre is “rap?”"
      ],
      "metadata": {
        "id": "ZQsx_9ii4bny"
      }
    },
    {
      "cell_type": "markdown",
      "source": [
        "### • Is there a statistically significant correlation between the number of hours someone listened to EDM and their depression score?"
      ],
      "metadata": {
        "id": "2PYHm2ye-0ef"
      }
    },
    {
      "cell_type": "code",
      "source": [
        "head(data2)"
      ],
      "metadata": {
        "colab": {
          "base_uri": "https://localhost:8080/",
          "height": 428
        },
        "id": "aZiGec7B_Hr4",
        "outputId": "a48bcfeb-ed3a-42a5-d384-995244282568"
      },
      "execution_count": null,
      "outputs": [
        {
          "output_type": "display_data",
          "data": {
            "text/html": [
              "<table class=\"dataframe\">\n",
              "<caption>A data.frame: 6 × 33</caption>\n",
              "<thead>\n",
              "\t<tr><th></th><th scope=col>timestamp</th><th scope=col>age</th><th scope=col>primary.streaming.service</th><th scope=col>hourslistened</th><th scope=col>while.working</th><th scope=col>instrumentalist</th><th scope=col>composer</th><th scope=col>fav.genre</th><th scope=col>exploratory</th><th scope=col>foreign.languages</th><th scope=col>⋯</th><th scope=col>frequency..r.b.</th><th scope=col>frequency..rap.</th><th scope=col>frequency..rock.</th><th scope=col>frequency..video.game.music.</th><th scope=col>anxiety</th><th scope=col>depression</th><th scope=col>insomnia</th><th scope=col>ocd</th><th scope=col>music.effects</th><th scope=col>bpm2</th></tr>\n",
              "\t<tr><th></th><th scope=col>&lt;chr&gt;</th><th scope=col>&lt;int&gt;</th><th scope=col>&lt;chr&gt;</th><th scope=col>&lt;dbl&gt;</th><th scope=col>&lt;chr&gt;</th><th scope=col>&lt;chr&gt;</th><th scope=col>&lt;chr&gt;</th><th scope=col>&lt;chr&gt;</th><th scope=col>&lt;chr&gt;</th><th scope=col>&lt;chr&gt;</th><th scope=col>⋯</th><th scope=col>&lt;chr&gt;</th><th scope=col>&lt;chr&gt;</th><th scope=col>&lt;chr&gt;</th><th scope=col>&lt;chr&gt;</th><th scope=col>&lt;dbl&gt;</th><th scope=col>&lt;dbl&gt;</th><th scope=col>&lt;dbl&gt;</th><th scope=col>&lt;dbl&gt;</th><th scope=col>&lt;chr&gt;</th><th scope=col>&lt;dbl&gt;</th></tr>\n",
              "</thead>\n",
              "<tbody>\n",
              "\t<tr><th scope=row>1</th><td>8/27/2022 19:29</td><td>18</td><td>Spotify      </td><td>3.0</td><td>Yes</td><td>Yes</td><td>Yes</td><td>Latin           </td><td>Yes</td><td>Yes</td><td>⋯</td><td>Sometimes      </td><td>Very frequently</td><td>Never          </td><td>Sometimes      </td><td>3</td><td>0</td><td> 1</td><td>0</td><td>         </td><td>156</td></tr>\n",
              "\t<tr><th scope=row>2</th><td>8/27/2022 19:57</td><td>63</td><td>Pandora      </td><td>1.5</td><td>Yes</td><td>No </td><td>No </td><td>Rock            </td><td>Yes</td><td>No </td><td>⋯</td><td>Sometimes      </td><td>Rarely         </td><td>Very frequently</td><td>Rarely         </td><td>7</td><td>2</td><td> 2</td><td>1</td><td>         </td><td>119</td></tr>\n",
              "\t<tr><th scope=row>3</th><td>8/27/2022 21:28</td><td>18</td><td>Spotify      </td><td>4.0</td><td>No </td><td>No </td><td>No </td><td>Video game music</td><td>No </td><td>Yes</td><td>⋯</td><td>Never          </td><td>Rarely         </td><td>Rarely         </td><td>Very frequently</td><td>7</td><td>7</td><td>10</td><td>2</td><td>No effect</td><td>132</td></tr>\n",
              "\t<tr><th scope=row>4</th><td>8/27/2022 21:40</td><td>61</td><td>YouTube Music</td><td>2.5</td><td>Yes</td><td>No </td><td>Yes</td><td>Jazz            </td><td>Yes</td><td>Yes</td><td>⋯</td><td>Sometimes      </td><td>Never          </td><td>Never          </td><td>Never          </td><td>9</td><td>7</td><td> 3</td><td>3</td><td>Improve  </td><td> 84</td></tr>\n",
              "\t<tr><th scope=row>5</th><td>8/27/2022 21:54</td><td>18</td><td><span style=white-space:pre-wrap>Spotify      </span></td><td>4.0</td><td>Yes</td><td>No </td><td>No </td><td><span style=white-space:pre-wrap>R&amp;B             </span></td><td>Yes</td><td>No </td><td>⋯</td><td>Very frequently</td><td>Very frequently</td><td><span style=white-space:pre-wrap>Never          </span></td><td><span style=white-space:pre-wrap>Rarely         </span></td><td>7</td><td>2</td><td> 5</td><td>9</td><td><span style=white-space:pre-wrap>Improve  </span></td><td>107</td></tr>\n",
              "\t<tr><th scope=row>6</th><td>8/27/2022 21:56</td><td>18</td><td>Spotify      </td><td>5.0</td><td>Yes</td><td>Yes</td><td>Yes</td><td>Jazz            </td><td>Yes</td><td>Yes</td><td>⋯</td><td>Very frequently</td><td>Very frequently</td><td>Very frequently</td><td>Never          </td><td>8</td><td>8</td><td> 7</td><td>7</td><td>Improve  </td><td> 86</td></tr>\n",
              "</tbody>\n",
              "</table>\n"
            ],
            "text/markdown": "\nA data.frame: 6 × 33\n\n| <!--/--> | timestamp &lt;chr&gt; | age &lt;int&gt; | primary.streaming.service &lt;chr&gt; | hourslistened &lt;dbl&gt; | while.working &lt;chr&gt; | instrumentalist &lt;chr&gt; | composer &lt;chr&gt; | fav.genre &lt;chr&gt; | exploratory &lt;chr&gt; | foreign.languages &lt;chr&gt; | ⋯ ⋯ | frequency..r.b. &lt;chr&gt; | frequency..rap. &lt;chr&gt; | frequency..rock. &lt;chr&gt; | frequency..video.game.music. &lt;chr&gt; | anxiety &lt;dbl&gt; | depression &lt;dbl&gt; | insomnia &lt;dbl&gt; | ocd &lt;dbl&gt; | music.effects &lt;chr&gt; | bpm2 &lt;dbl&gt; |\n|---|---|---|---|---|---|---|---|---|---|---|---|---|---|---|---|---|---|---|---|---|---|\n| 1 | 8/27/2022 19:29 | 18 | Spotify       | 3.0 | Yes | Yes | Yes | Latin            | Yes | Yes | ⋯ | Sometimes       | Very frequently | Never           | Sometimes       | 3 | 0 |  1 | 0 | <!----> | 156 |\n| 2 | 8/27/2022 19:57 | 63 | Pandora       | 1.5 | Yes | No  | No  | Rock             | Yes | No  | ⋯ | Sometimes       | Rarely          | Very frequently | Rarely          | 7 | 2 |  2 | 1 | <!----> | 119 |\n| 3 | 8/27/2022 21:28 | 18 | Spotify       | 4.0 | No  | No  | No  | Video game music | No  | Yes | ⋯ | Never           | Rarely          | Rarely          | Very frequently | 7 | 7 | 10 | 2 | No effect | 132 |\n| 4 | 8/27/2022 21:40 | 61 | YouTube Music | 2.5 | Yes | No  | Yes | Jazz             | Yes | Yes | ⋯ | Sometimes       | Never           | Never           | Never           | 9 | 7 |  3 | 3 | Improve   |  84 |\n| 5 | 8/27/2022 21:54 | 18 | Spotify       | 4.0 | Yes | No  | No  | R&amp;B              | Yes | No  | ⋯ | Very frequently | Very frequently | Never           | Rarely          | 7 | 2 |  5 | 9 | Improve   | 107 |\n| 6 | 8/27/2022 21:56 | 18 | Spotify       | 5.0 | Yes | Yes | Yes | Jazz             | Yes | Yes | ⋯ | Very frequently | Very frequently | Very frequently | Never           | 8 | 8 |  7 | 7 | Improve   |  86 |\n\n",
            "text/latex": "A data.frame: 6 × 33\n\\begin{tabular}{r|lllllllllllllllllllll}\n  & timestamp & age & primary.streaming.service & hourslistened & while.working & instrumentalist & composer & fav.genre & exploratory & foreign.languages & ⋯ & frequency..r.b. & frequency..rap. & frequency..rock. & frequency..video.game.music. & anxiety & depression & insomnia & ocd & music.effects & bpm2\\\\\n  & <chr> & <int> & <chr> & <dbl> & <chr> & <chr> & <chr> & <chr> & <chr> & <chr> & ⋯ & <chr> & <chr> & <chr> & <chr> & <dbl> & <dbl> & <dbl> & <dbl> & <chr> & <dbl>\\\\\n\\hline\n\t1 & 8/27/2022 19:29 & 18 & Spotify       & 3.0 & Yes & Yes & Yes & Latin            & Yes & Yes & ⋯ & Sometimes       & Very frequently & Never           & Sometimes       & 3 & 0 &  1 & 0 &           & 156\\\\\n\t2 & 8/27/2022 19:57 & 63 & Pandora       & 1.5 & Yes & No  & No  & Rock             & Yes & No  & ⋯ & Sometimes       & Rarely          & Very frequently & Rarely          & 7 & 2 &  2 & 1 &           & 119\\\\\n\t3 & 8/27/2022 21:28 & 18 & Spotify       & 4.0 & No  & No  & No  & Video game music & No  & Yes & ⋯ & Never           & Rarely          & Rarely          & Very frequently & 7 & 7 & 10 & 2 & No effect & 132\\\\\n\t4 & 8/27/2022 21:40 & 61 & YouTube Music & 2.5 & Yes & No  & Yes & Jazz             & Yes & Yes & ⋯ & Sometimes       & Never           & Never           & Never           & 9 & 7 &  3 & 3 & Improve   &  84\\\\\n\t5 & 8/27/2022 21:54 & 18 & Spotify       & 4.0 & Yes & No  & No  & R\\&B              & Yes & No  & ⋯ & Very frequently & Very frequently & Never           & Rarely          & 7 & 2 &  5 & 9 & Improve   & 107\\\\\n\t6 & 8/27/2022 21:56 & 18 & Spotify       & 5.0 & Yes & Yes & Yes & Jazz             & Yes & Yes & ⋯ & Very frequently & Very frequently & Very frequently & Never           & 8 & 8 &  7 & 7 & Improve   &  86\\\\\n\\end{tabular}\n",
            "text/plain": [
              "  timestamp       age primary.streaming.service hourslistened while.working\n",
              "1 8/27/2022 19:29 18  Spotify                   3.0           Yes          \n",
              "2 8/27/2022 19:57 63  Pandora                   1.5           Yes          \n",
              "3 8/27/2022 21:28 18  Spotify                   4.0           No           \n",
              "4 8/27/2022 21:40 61  YouTube Music             2.5           Yes          \n",
              "5 8/27/2022 21:54 18  Spotify                   4.0           Yes          \n",
              "6 8/27/2022 21:56 18  Spotify                   5.0           Yes          \n",
              "  instrumentalist composer fav.genre        exploratory foreign.languages ⋯\n",
              "1 Yes             Yes      Latin            Yes         Yes               ⋯\n",
              "2 No              No       Rock             Yes         No                ⋯\n",
              "3 No              No       Video game music No          Yes               ⋯\n",
              "4 No              Yes      Jazz             Yes         Yes               ⋯\n",
              "5 No              No       R&B              Yes         No                ⋯\n",
              "6 Yes             Yes      Jazz             Yes         Yes               ⋯\n",
              "  frequency..r.b. frequency..rap. frequency..rock. frequency..video.game.music.\n",
              "1 Sometimes       Very frequently Never            Sometimes                   \n",
              "2 Sometimes       Rarely          Very frequently  Rarely                      \n",
              "3 Never           Rarely          Rarely           Very frequently             \n",
              "4 Sometimes       Never           Never            Never                       \n",
              "5 Very frequently Very frequently Never            Rarely                      \n",
              "6 Very frequently Very frequently Very frequently  Never                       \n",
              "  anxiety depression insomnia ocd music.effects bpm2\n",
              "1 3       0           1       0                 156 \n",
              "2 7       2           2       1                 119 \n",
              "3 7       7          10       2   No effect     132 \n",
              "4 9       7           3       3   Improve        84 \n",
              "5 7       2           5       9   Improve       107 \n",
              "6 8       8           7       7   Improve        86 "
            ]
          },
          "metadata": {}
        }
      ]
    },
    {
      "cell_type": "code",
      "source": [
        "list_1 = c('hourslistened','depression')\n",
        "\n",
        "data3 = data2 |>\n",
        "  filter(str_detect(fav.genre,\"EDM\"))\n",
        "\n",
        "head(data3)"
      ],
      "metadata": {
        "colab": {
          "base_uri": "https://localhost:8080/",
          "height": 410
        },
        "id": "tGD8gEn149mZ",
        "outputId": "7d0c4d12-07e2-49e5-d4f6-a5fb916dec53"
      },
      "execution_count": null,
      "outputs": [
        {
          "output_type": "display_data",
          "data": {
            "text/html": [
              "<table class=\"dataframe\">\n",
              "<caption>A data.frame: 6 × 33</caption>\n",
              "<thead>\n",
              "\t<tr><th></th><th scope=col>timestamp</th><th scope=col>age</th><th scope=col>primary.streaming.service</th><th scope=col>hourslistened</th><th scope=col>while.working</th><th scope=col>instrumentalist</th><th scope=col>composer</th><th scope=col>fav.genre</th><th scope=col>exploratory</th><th scope=col>foreign.languages</th><th scope=col>⋯</th><th scope=col>frequency..r.b.</th><th scope=col>frequency..rap.</th><th scope=col>frequency..rock.</th><th scope=col>frequency..video.game.music.</th><th scope=col>anxiety</th><th scope=col>depression</th><th scope=col>insomnia</th><th scope=col>ocd</th><th scope=col>music.effects</th><th scope=col>bpm2</th></tr>\n",
              "\t<tr><th></th><th scope=col>&lt;chr&gt;</th><th scope=col>&lt;int&gt;</th><th scope=col>&lt;chr&gt;</th><th scope=col>&lt;dbl&gt;</th><th scope=col>&lt;chr&gt;</th><th scope=col>&lt;chr&gt;</th><th scope=col>&lt;chr&gt;</th><th scope=col>&lt;chr&gt;</th><th scope=col>&lt;chr&gt;</th><th scope=col>&lt;chr&gt;</th><th scope=col>⋯</th><th scope=col>&lt;chr&gt;</th><th scope=col>&lt;chr&gt;</th><th scope=col>&lt;chr&gt;</th><th scope=col>&lt;chr&gt;</th><th scope=col>&lt;dbl&gt;</th><th scope=col>&lt;dbl&gt;</th><th scope=col>&lt;dbl&gt;</th><th scope=col>&lt;dbl&gt;</th><th scope=col>&lt;chr&gt;</th><th scope=col>&lt;dbl&gt;</th></tr>\n",
              "</thead>\n",
              "<tbody>\n",
              "\t<tr><th scope=row>1</th><td>8/27/2022 23:00</td><td>19</td><td>YouTube Music</td><td>8</td><td>Yes</td><td>No </td><td>No </td><td>EDM</td><td>Yes</td><td>No </td><td>⋯</td><td>Rarely         </td><td>Sometimes</td><td>Rarely         </td><td>Rarely         </td><td>1</td><td>0</td><td>0</td><td> 1</td><td>Improve</td><td>125</td></tr>\n",
              "\t<tr><th scope=row>2</th><td>8/28/2022 11:39</td><td>20</td><td>Spotify      </td><td>4</td><td>Yes</td><td>No </td><td>No </td><td>EDM</td><td>Yes</td><td>No </td><td>⋯</td><td>Very frequently</td><td>Sometimes</td><td>Very frequently</td><td>Rarely         </td><td>7</td><td>2</td><td>8</td><td> 6</td><td>Improve</td><td>161</td></tr>\n",
              "\t<tr><th scope=row>3</th><td>8/28/2022 12:37</td><td>17</td><td>Apple Music  </td><td>2</td><td>Yes</td><td>Yes</td><td>No </td><td>EDM</td><td>Yes</td><td>No </td><td>⋯</td><td>Sometimes      </td><td>Sometimes</td><td>Very frequently</td><td>Rarely         </td><td>0</td><td>0</td><td>0</td><td> 0</td><td>Improve</td><td>128</td></tr>\n",
              "\t<tr><th scope=row>4</th><td>8/28/2022 14:10</td><td>18</td><td>YouTube Music</td><td>2</td><td>No </td><td>No </td><td>No </td><td>EDM</td><td>No </td><td>Yes</td><td>⋯</td><td>Rarely         </td><td>Sometimes</td><td>Rarely         </td><td>Very frequently</td><td>9</td><td>0</td><td>5</td><td>10</td><td>Improve</td><td>150</td></tr>\n",
              "\t<tr><th scope=row>5</th><td>8/28/2022 15:02</td><td>20</td><td>Spotify      </td><td>3</td><td>No </td><td>No </td><td>Yes</td><td>EDM</td><td>Yes</td><td>Yes</td><td>⋯</td><td>Never          </td><td>Sometimes</td><td>Sometimes      </td><td>Rarely         </td><td>0</td><td>3</td><td>7</td><td> 0</td><td>Improve</td><td>121</td></tr>\n",
              "\t<tr><th scope=row>6</th><td>8/28/2022 16:32</td><td>22</td><td>Spotify      </td><td>1</td><td>No </td><td>No </td><td>Yes</td><td>EDM</td><td>Yes</td><td>No </td><td>⋯</td><td>Very frequently</td><td>Sometimes</td><td>Sometimes      </td><td>Never          </td><td>2</td><td>7</td><td>5</td><td> 0</td><td>Improve</td><td>128</td></tr>\n",
              "</tbody>\n",
              "</table>\n"
            ],
            "text/markdown": "\nA data.frame: 6 × 33\n\n| <!--/--> | timestamp &lt;chr&gt; | age &lt;int&gt; | primary.streaming.service &lt;chr&gt; | hourslistened &lt;dbl&gt; | while.working &lt;chr&gt; | instrumentalist &lt;chr&gt; | composer &lt;chr&gt; | fav.genre &lt;chr&gt; | exploratory &lt;chr&gt; | foreign.languages &lt;chr&gt; | ⋯ ⋯ | frequency..r.b. &lt;chr&gt; | frequency..rap. &lt;chr&gt; | frequency..rock. &lt;chr&gt; | frequency..video.game.music. &lt;chr&gt; | anxiety &lt;dbl&gt; | depression &lt;dbl&gt; | insomnia &lt;dbl&gt; | ocd &lt;dbl&gt; | music.effects &lt;chr&gt; | bpm2 &lt;dbl&gt; |\n|---|---|---|---|---|---|---|---|---|---|---|---|---|---|---|---|---|---|---|---|---|---|\n| 1 | 8/27/2022 23:00 | 19 | YouTube Music | 8 | Yes | No  | No  | EDM | Yes | No  | ⋯ | Rarely          | Sometimes | Rarely          | Rarely          | 1 | 0 | 0 |  1 | Improve | 125 |\n| 2 | 8/28/2022 11:39 | 20 | Spotify       | 4 | Yes | No  | No  | EDM | Yes | No  | ⋯ | Very frequently | Sometimes | Very frequently | Rarely          | 7 | 2 | 8 |  6 | Improve | 161 |\n| 3 | 8/28/2022 12:37 | 17 | Apple Music   | 2 | Yes | Yes | No  | EDM | Yes | No  | ⋯ | Sometimes       | Sometimes | Very frequently | Rarely          | 0 | 0 | 0 |  0 | Improve | 128 |\n| 4 | 8/28/2022 14:10 | 18 | YouTube Music | 2 | No  | No  | No  | EDM | No  | Yes | ⋯ | Rarely          | Sometimes | Rarely          | Very frequently | 9 | 0 | 5 | 10 | Improve | 150 |\n| 5 | 8/28/2022 15:02 | 20 | Spotify       | 3 | No  | No  | Yes | EDM | Yes | Yes | ⋯ | Never           | Sometimes | Sometimes       | Rarely          | 0 | 3 | 7 |  0 | Improve | 121 |\n| 6 | 8/28/2022 16:32 | 22 | Spotify       | 1 | No  | No  | Yes | EDM | Yes | No  | ⋯ | Very frequently | Sometimes | Sometimes       | Never           | 2 | 7 | 5 |  0 | Improve | 128 |\n\n",
            "text/latex": "A data.frame: 6 × 33\n\\begin{tabular}{r|lllllllllllllllllllll}\n  & timestamp & age & primary.streaming.service & hourslistened & while.working & instrumentalist & composer & fav.genre & exploratory & foreign.languages & ⋯ & frequency..r.b. & frequency..rap. & frequency..rock. & frequency..video.game.music. & anxiety & depression & insomnia & ocd & music.effects & bpm2\\\\\n  & <chr> & <int> & <chr> & <dbl> & <chr> & <chr> & <chr> & <chr> & <chr> & <chr> & ⋯ & <chr> & <chr> & <chr> & <chr> & <dbl> & <dbl> & <dbl> & <dbl> & <chr> & <dbl>\\\\\n\\hline\n\t1 & 8/27/2022 23:00 & 19 & YouTube Music & 8 & Yes & No  & No  & EDM & Yes & No  & ⋯ & Rarely          & Sometimes & Rarely          & Rarely          & 1 & 0 & 0 &  1 & Improve & 125\\\\\n\t2 & 8/28/2022 11:39 & 20 & Spotify       & 4 & Yes & No  & No  & EDM & Yes & No  & ⋯ & Very frequently & Sometimes & Very frequently & Rarely          & 7 & 2 & 8 &  6 & Improve & 161\\\\\n\t3 & 8/28/2022 12:37 & 17 & Apple Music   & 2 & Yes & Yes & No  & EDM & Yes & No  & ⋯ & Sometimes       & Sometimes & Very frequently & Rarely          & 0 & 0 & 0 &  0 & Improve & 128\\\\\n\t4 & 8/28/2022 14:10 & 18 & YouTube Music & 2 & No  & No  & No  & EDM & No  & Yes & ⋯ & Rarely          & Sometimes & Rarely          & Very frequently & 9 & 0 & 5 & 10 & Improve & 150\\\\\n\t5 & 8/28/2022 15:02 & 20 & Spotify       & 3 & No  & No  & Yes & EDM & Yes & Yes & ⋯ & Never           & Sometimes & Sometimes       & Rarely          & 0 & 3 & 7 &  0 & Improve & 121\\\\\n\t6 & 8/28/2022 16:32 & 22 & Spotify       & 1 & No  & No  & Yes & EDM & Yes & No  & ⋯ & Very frequently & Sometimes & Sometimes       & Never           & 2 & 7 & 5 &  0 & Improve & 128\\\\\n\\end{tabular}\n",
            "text/plain": [
              "  timestamp       age primary.streaming.service hourslistened while.working\n",
              "1 8/27/2022 23:00 19  YouTube Music             8             Yes          \n",
              "2 8/28/2022 11:39 20  Spotify                   4             Yes          \n",
              "3 8/28/2022 12:37 17  Apple Music               2             Yes          \n",
              "4 8/28/2022 14:10 18  YouTube Music             2             No           \n",
              "5 8/28/2022 15:02 20  Spotify                   3             No           \n",
              "6 8/28/2022 16:32 22  Spotify                   1             No           \n",
              "  instrumentalist composer fav.genre exploratory foreign.languages ⋯\n",
              "1 No              No       EDM       Yes         No                ⋯\n",
              "2 No              No       EDM       Yes         No                ⋯\n",
              "3 Yes             No       EDM       Yes         No                ⋯\n",
              "4 No              No       EDM       No          Yes               ⋯\n",
              "5 No              Yes      EDM       Yes         Yes               ⋯\n",
              "6 No              Yes      EDM       Yes         No                ⋯\n",
              "  frequency..r.b. frequency..rap. frequency..rock. frequency..video.game.music.\n",
              "1 Rarely          Sometimes       Rarely           Rarely                      \n",
              "2 Very frequently Sometimes       Very frequently  Rarely                      \n",
              "3 Sometimes       Sometimes       Very frequently  Rarely                      \n",
              "4 Rarely          Sometimes       Rarely           Very frequently             \n",
              "5 Never           Sometimes       Sometimes        Rarely                      \n",
              "6 Very frequently Sometimes       Sometimes        Never                       \n",
              "  anxiety depression insomnia ocd music.effects bpm2\n",
              "1 1       0          0         1  Improve       125 \n",
              "2 7       2          8         6  Improve       161 \n",
              "3 0       0          0         0  Improve       128 \n",
              "4 9       0          5        10  Improve       150 \n",
              "5 0       3          7         0  Improve       121 \n",
              "6 2       7          5         0  Improve       128 "
            ]
          },
          "metadata": {}
        }
      ]
    },
    {
      "cell_type": "code",
      "source": [
        "for (i in list_1){\n",
        "  x = boxplot(data3[i],col='darkred')\n",
        "title(i)\n",
        "}\n",
        "\n",
        "data4 = data3 |> filter(hourslistened < 15)"
      ],
      "metadata": {
        "colab": {
          "base_uri": "https://localhost:8080/",
          "height": 857
        },
        "id": "ur9YmA4Z7B48",
        "outputId": "a9699d35-7e46-4f7e-fb7a-53e80a14f93d"
      },
      "execution_count": null,
      "outputs": [
        {
          "output_type": "display_data",
          "data": {
            "text/plain": [
              "Plot with title “hourslistened”"
            ],
            "image/png": "[encoded data removed]"
          },
          "metadata": {
            "image/png": {
              "width": 420,
              "height": 420
            }
          }
        },
        {
          "output_type": "display_data",
          "data": {
            "text/plain": [
              "Plot with title “depression”"
            ],
            "image/png": "[encoded data removed]"
          },
          "metadata": {
            "image/png": {
              "width": 420,
              "height": 420
            }
          }
        }
      ]
    },
    {
      "cell_type": "code",
      "source": [
        "for (i in list_1){\n",
        "  x = ggplot(data4,aes(y=.data[[i]]))+geom_boxplot()+labs(title= paste(\"boxplot of\", i)) +theme(plot.title = element_text(hjust = .5))\n",
        "  print(x)\n",
        "}"
      ],
      "metadata": {
        "colab": {
          "base_uri": "https://localhost:8080/",
          "height": 857
        },
        "id": "VQYX1jIs8Pc5",
        "outputId": "d8f65003-e8a4-4a95-8f68-8abfc3a33627"
      },
      "execution_count": null,
      "outputs": [
        {
          "output_type": "display_data",
          "data": {
            "text/plain": [
              "plot without title"
            ],
            "image/png": "[encoded data removed]"
          },
          "metadata": {
            "image/png": {
              "width": 420,
              "height": 420
            }
          }
        },
        {
          "output_type": "display_data",
          "data": {
            "text/plain": [
              "plot without title"
            ],
            "image/png": "[encoded data removed]"
          },
          "metadata": {
            "image/png": {
              "width": 420,
              "height": 420
            }
          }
        }
      ]
    },
    {
      "cell_type": "code",
      "source": [
        "for (i in list_1){\n",
        "  x = shapiro.test(data4[[i]])\n",
        "  print(x)\n",
        "  print(i)\n",
        "}"
      ],
      "metadata": {
        "colab": {
          "base_uri": "https://localhost:8080/"
        },
        "id": "DXdCTJ3a5EKc",
        "outputId": "28c7e649-e37e-4f65-edad-e1ba945ccf5c",
        "collapsed": true
      },
      "execution_count": null,
      "outputs": [
        {
          "output_type": "stream",
          "name": "stdout",
          "text": [
            "\n",
            "\tShapiro-Wilk normality test\n",
            "\n",
            "data:  data4[[i]]\n",
            "W = 0.86397, p-value = 0.0008455\n",
            "\n",
            "[1] \"hourslistened\"\n",
            "\n",
            "\tShapiro-Wilk normality test\n",
            "\n",
            "data:  data4[[i]]\n",
            "W = 0.9425, p-value = 0.08819\n",
            "\n",
            "[1] \"depression\"\n"
          ]
        }
      ]
    },
    {
      "cell_type": "code",
      "source": [
        "cor.test(data4$hourslistened, data4$depression,method = 'k')"
      ],
      "metadata": {
        "colab": {
          "base_uri": "https://localhost:8080/",
          "height": 208
        },
        "id": "mWGLQfU-4iTB",
        "outputId": "062330a3-4e46-420d-afc6-7d917f73ef49",
        "collapsed": true
      },
      "execution_count": null,
      "outputs": [
        {
          "output_type": "stream",
          "name": "stderr",
          "text": [
            "Warning message in cor.test.default(data4$hourslistened, data4$depression, method = \"k\"):\n",
            "“Cannot compute exact p-value with ties”\n"
          ]
        },
        {
          "output_type": "display_data",
          "data": {
            "text/plain": [
              "\n",
              "\tKendall's rank correlation tau\n",
              "\n",
              "data:  data4$hourslistened and data4$depression\n",
              "z = 0.16593, p-value = 0.8682\n",
              "alternative hypothesis: true tau is not equal to 0\n",
              "sample estimates:\n",
              "       tau \n",
              "0.02248009 \n"
            ]
          },
          "metadata": {}
        }
      ]
    },
    {
      "cell_type": "code",
      "source": [
        "method_list = list('s','k','p')\n",
        "\n",
        "for (i in method_list){\n",
        "  x = cor.test(data4$hourslistened,data4$depression,method=i)\n",
        "  print(x)\n",
        "}"
      ],
      "metadata": {
        "colab": {
          "base_uri": "https://localhost:8080/"
        },
        "id": "njhnIjQkzlA4",
        "outputId": "342641cb-6232-4e29-b793-8918aaaf95f1"
      },
      "execution_count": null,
      "outputs": [
        {
          "output_type": "stream",
          "name": "stderr",
          "text": [
            "Warning message in cor.test.default(data4$hourslistened, data4$depression, method = i):\n",
            "“Cannot compute exact p-value with ties”\n"
          ]
        },
        {
          "output_type": "stream",
          "name": "stdout",
          "text": [
            "\n",
            "\tSpearman's rank correlation rho\n",
            "\n",
            "data:  data4$hourslistened and data4$depression\n",
            "S = 5107.7, p-value = 0.7285\n",
            "alternative hypothesis: true rho is not equal to 0\n",
            "sample estimates:\n",
            "       rho \n",
            "0.06383976 \n",
            "\n"
          ]
        },
        {
          "output_type": "stream",
          "name": "stderr",
          "text": [
            "Warning message in cor.test.default(data4$hourslistened, data4$depression, method = i):\n",
            "“Cannot compute exact p-value with ties”\n"
          ]
        },
        {
          "output_type": "stream",
          "name": "stdout",
          "text": [
            "\n",
            "\tKendall's rank correlation tau\n",
            "\n",
            "data:  data4$hourslistened and data4$depression\n",
            "z = 0.16593, p-value = 0.8682\n",
            "alternative hypothesis: true tau is not equal to 0\n",
            "sample estimates:\n",
            "       tau \n",
            "0.02248009 \n",
            "\n",
            "\n",
            "\tPearson's product-moment correlation\n",
            "\n",
            "data:  data4$hourslistened and data4$depression\n",
            "t = 1.1254, df = 30, p-value = 0.2693\n",
            "alternative hypothesis: true correlation is not equal to 0\n",
            "95 percent confidence interval:\n",
            " -0.1585532  0.5138964\n",
            "sample estimates:\n",
            "      cor \n",
            "0.2012682 \n",
            "\n"
          ]
        }
      ]
    },
    {
      "cell_type": "markdown",
      "source": [
        "## Level 4: Visualization\n",
        "\n",
        "• Graph the relationship between the number of hours someone listens to music and their OCD score"
      ],
      "metadata": {
        "id": "mVQ4potd4fFB"
      }
    },
    {
      "cell_type": "code",
      "source": [
        "data4 |> ggplot(aes(x=hourslistened,y=ocd))+geom_point()"
      ],
      "metadata": {
        "id": "mXLfx9cK9CZK",
        "colab": {
          "base_uri": "https://localhost:8080/",
          "height": 437
        },
        "outputId": "996875c8-da1c-47e3-8738-03529f313973"
      },
      "execution_count": null,
      "outputs": [
        {
          "output_type": "display_data",
          "data": {
            "text/plain": [
              "plot without title"
            ],
            "image/png": "[encoded data removed]"
          },
          "metadata": {
            "image/png": {
              "width": 420,
              "height": 420
            }
          }
        }
      ]
    }
  ]
}